{
  "nbformat": 4,
  "nbformat_minor": 0,
  "metadata": {
    "colab": {
      "provenance": []
    },
    "kernelspec": {
      "name": "python3",
      "display_name": "Python 3"
    },
    "language_info": {
      "name": "python"
    }
  },
  "cells": [
    {
      "cell_type": "code",
      "execution_count": 1,
      "metadata": {
        "id": "fCZ8E93OWWFF"
      },
      "outputs": [],
      "source": [
        "import cv2\n",
        "import numpy as np\n",
        "import pandas as pd\n",
        "from skimage.util import random_noise\n",
        "from tqdm import tqdm\n",
        "import os\n",
        "from google.colab.patches import cv2_imshow"
      ]
    },
    {
      "cell_type": "code",
      "source": [
        "# преобразования положения\n",
        "def rotation(img, angle = 45):\n",
        "    angle = int(np.random.uniform(-angle, angle))\n",
        "    h, w = img.shape[:2]\n",
        "    M = cv2.getRotationMatrix2D((int(w/2), int(h/2)), angle, 1)\n",
        "    img = cv2.warpAffine(img, M, (w, h), borderValue = (1, 1, 1))\n",
        "    return img\n",
        "\n",
        "def translation(img, shift = 500):\n",
        "    w_shift = int(np.random.uniform(-shift, shift))\n",
        "    h_shift = int(np.random.uniform(-shift, shift))\n",
        "    h, w = img.shape[:2]\n",
        "    M = np.array([[1, 0, w_shift], [0, 1, h_shift]], dtype=np.float32)\n",
        "    img = cv2.warpAffine(img, M, (w, h), borderValue = (1, 1, 1))\n",
        "    return img\n",
        "\n",
        "def resize(img, scale = 1):\n",
        "    width = int(img.shape[1] * scale)\n",
        "    height = int(img.shape[0] * scale)\n",
        "    dim = (width, height)\n",
        "    \n",
        "    img = cv2.resize(img, dim, interpolation = cv2.INTER_AREA)\n",
        "    return img\n",
        "\n",
        "example = np.full((102, 102, 3), 209, np.uint8)\n",
        "cv2_imshow(example)\n",
        "example = np.full((102, 102, 3), 209, np.uint8)\n",
        "cv2_imshow(rotation(example))\n",
        "example = np.full((102, 102, 3), 209, np.uint8)\n",
        "cv2_imshow(translation(example, 50))\n",
        "example = np.full((102, 102, 3), 209, np.uint8)\n",
        "cv2_imshow(resize(example, 1.25))\n"
      ],
      "metadata": {
        "colab": {
          "base_uri": "https://localhost:8080/",
          "height": 450
        },
        "id": "ayFNC_boWeSh",
        "outputId": "3a2277bd-1922-4492-f2c9-1d4c1458eaa2"
      },
      "execution_count": 2,
      "outputs": [
        {
          "output_type": "display_data",
          "data": {
            "text/plain": [
              "<PIL.Image.Image image mode=RGB size=102x102 at 0x7F58C78AF880>"
            ],
            "image/png": "[encoded data removed]"
          },
          "metadata": {}
        },
        {
          "output_type": "display_data",
          "data": {
            "text/plain": [
              "<PIL.Image.Image image mode=RGB size=102x102 at 0x7F58C78AF790>"
            ],
            "image/png": "[encoded data removed]"
          },
          "metadata": {}
        },
        {
          "output_type": "display_data",
          "data": {
            "text/plain": [
              "<PIL.Image.Image image mode=RGB size=102x102 at 0x7F58C78AF880>"
            ],
            "image/png": "[encoded data removed]"
          },
          "metadata": {}
        },
        {
          "output_type": "display_data",
          "data": {
            "text/plain": [
              "<PIL.Image.Image image mode=RGB size=127x127 at 0x7F58C78AF790>"
            ],
            "image/png": "[encoded data removed]"
          },
          "metadata": {}
        }
      ]
    },
    {
      "cell_type": "code",
      "source": [
        "# преобразование изображения\n",
        "def channel_shift(img, value = 60):\n",
        "    value = int(np.random.uniform(-value, value))\n",
        "    img = img + value\n",
        "    img[:, :, :][img[:, :, :] > 255]  = 255\n",
        "    img[:, :, :][img[:, :, :] < 0]  = 0\n",
        "    img = img.astype(np.uint8)\n",
        "    return img\n",
        "\n",
        "def blur(img, shape = 10):\n",
        "    k = np.random.randint(1, shape)\n",
        "    return cv2.blur(img, (k, k))\n",
        "\n",
        "example = np.full((102, 102, 3), 209, np.uint8)\n",
        "cv2_imshow(channel_shift(example, 100))\n",
        "example = np.full((102, 102, 3), 209, np.uint8)\n",
        "cv2_imshow(blur(example))"
      ],
      "metadata": {
        "colab": {
          "base_uri": "https://localhost:8080/",
          "height": 221
        },
        "id": "vlm4_DsgejIr",
        "outputId": "c729c89c-2ff7-4e33-8748-5f0b2e2e9af1"
      },
      "execution_count": 3,
      "outputs": [
        {
          "output_type": "display_data",
          "data": {
            "text/plain": [
              "<PIL.Image.Image image mode=RGB size=102x102 at 0x7F5904AF9550>"
            ],
            "image/png": "[encoded data removed]"
          },
          "metadata": {}
        },
        {
          "output_type": "display_data",
          "data": {
            "text/plain": [
              "<PIL.Image.Image image mode=RGB size=102x102 at 0x7F5904AF9550>"
            ],
            "image/png": "[encoded data removed]"
          },
          "metadata": {}
        }
      ]
    },
    {
      "cell_type": "code",
      "source": [
        "# эффект бумаги\n",
        "def blank_paper(width=1024, height=1024, background=209):\n",
        "    img = np.full((height, width, 3), background, np.uint8)\n",
        "    return img\n",
        "\n",
        "def add_noise(img, sigma=5):\n",
        "    width, height, ch = img.shape\n",
        "    img = img + noise(width, height, sigma=sigma)\n",
        "    return img.clip(0, 255)\n",
        "\n",
        "def noise(width, height, ratio=1, sigma=5):\n",
        "    mean = 0\n",
        "    h = int(height / ratio)\n",
        "    w = int(width / ratio)\n",
        "    result = np.random.normal(mean, sigma, (w, h, 3))\n",
        "    if ratio > 1:\n",
        "        result = cv2.resize(result, dsize=(width, height), interpolation=cv2.INTER_LINEAR)\n",
        "    return result.reshape((width, height, 3))\n",
        "\n",
        "def texture(image, sigma=5, turbulence=2):\n",
        "    result = image.astype(float)\n",
        "    cols, rows, ch = image.shape\n",
        "    ratio = cols\n",
        "    while not ratio == 1:\n",
        "        result += noise(cols, rows, ratio, sigma=sigma)\n",
        "        ratio = (ratio // turbulence) or 1\n",
        "    cut = np.clip(result, 0, 255)\n",
        "    return cut.astype(np.uint8)\n",
        "\n",
        "def get_paper(width=1024, height=1024, colour = 230):\n",
        "    return add_noise(texture(blank_paper(width, height, colour)))\n",
        "\n",
        "cv2_imshow(get_paper(100, 100))"
      ],
      "metadata": {
        "colab": {
          "base_uri": "https://localhost:8080/",
          "height": 117
        },
        "id": "Z1SNh_NrfpI_",
        "outputId": "2059a56c-a9c0-48d5-94e0-08a1af23ea2b"
      },
      "execution_count": 4,
      "outputs": [
        {
          "output_type": "display_data",
          "data": {
            "text/plain": [
              "<PIL.Image.Image image mode=RGB size=100x100 at 0x7F5904AF9DC0>"
            ],
            "image/png": "[encoded data removed]"
          },
          "metadata": {}
        }
      ]
    },
    {
      "cell_type": "code",
      "source": [
        "# дефект печати\n",
        "def print_defect(img):\n",
        "    shifted_rows = np.random.binomial(1, 0.01, img.shape[0])\n",
        "    for i in range(img.shape[0]):\n",
        "        if shifted_rows[i] == 1:\n",
        "            shift = np.random.randint(-25, 25)\n",
        "            new_row = np.zeros_like(img[i])\n",
        "            if shift > 0:\n",
        "                new_row[shift:] = img[i][:-shift]\n",
        "            elif shift < 0:\n",
        "                new_row[:shift] = img[i][-shift:]\n",
        "            else:\n",
        "                new_row = img[i]\n",
        "            img[i] = new_row\n",
        "    return img\n",
        "\n",
        "example = np.full((102, 102, 3), 209, np.uint8)\n",
        "cv2_imshow(print_defect(example))"
      ],
      "metadata": {
        "colab": {
          "base_uri": "https://localhost:8080/",
          "height": 119
        },
        "id": "lsjifFedhcpR",
        "outputId": "e3f800ec-c0a6-46ed-9305-5c523cab933e"
      },
      "execution_count": 6,
      "outputs": [
        {
          "output_type": "display_data",
          "data": {
            "text/plain": [
              "<PIL.Image.Image image mode=RGB size=102x102 at 0x7F58C7840AF0>"
            ],
            "image/png": "[encoded data removed]"
          },
          "metadata": {}
        }
      ]
    },
    {
      "cell_type": "code",
      "source": [
        "def put_image_on_paper(img, bg):\n",
        "    mask = np.zeros_like(img)\n",
        "    mask[:, :, 0] = mask[:, :, 1] = mask[:, :, 2] = (img[:, :, 0] == 255) * (img[:, :, 1] == 255) * (img[:, :, 2] == 255)\n",
        "    mask = mask.astype(bool)\n",
        "    return bg[:img.shape[0], :img.shape[1]] * mask + img * ~mask\n",
        "\n",
        "def put_image_on_background(img, bg):\n",
        "    mask = np.zeros_like(img)\n",
        "    mask[:, :, 0] = mask[:, :, 1] = mask[:, :, 2] = (img[:, :, 0] == 1) * (img[:, :, 1] == 1) * (img[:, :, 2] == 1)\n",
        "    mask = mask.astype(bool)\n",
        "    return bg * mask + img * ~mask"
      ],
      "metadata": {
        "id": "LXPLDkk8hYt1"
      },
      "execution_count": 5,
      "outputs": []
    },
    {
      "cell_type": "code",
      "source": [
        "def make_augmentations(img):\n",
        "    bg = cv2.imread('backgrounds/background_' + str(np.random.randint(2, 5)) + '.jpg')\n",
        "    new_img = resize(img, np.random.randint(30, 65) / 100)\n",
        "    new_img = print_defect(put_image_on_paper(new_img, paper))\n",
        "    trick = np.ones_like(bg)\n",
        "    trick[500:500 + new_img.shape[0], 500:500 + new_img.shape[1]] = new_img\n",
        "    new_img = translation(rotation(trick))\n",
        "    return blur(put_image_on_background(new_img, bg))"
      ],
      "metadata": {
        "id": "HjYKbp-vhgG7"
      },
      "execution_count": 79,
      "outputs": []
    },
    {
      "cell_type": "code",
      "source": [
        "paper = get_paper(4096, 4096)"
      ],
      "metadata": {
        "id": "ugwFWbrRhhE-"
      },
      "execution_count": 80,
      "outputs": []
    },
    {
      "cell_type": "code",
      "source": [
        "for file in tqdm(os.listdir('images/')):\n",
        "    img = cv2.imread('images/' + file)\n",
        "    for i in range(10):\n",
        "        cv2.imwrite('/content/result/' + file[:-4]+ '_' + str(i) + '.png', make_augmentations(img))"
      ],
      "metadata": {
        "colab": {
          "base_uri": "https://localhost:8080/"
        },
        "id": "gfxMR4JOhigI",
        "outputId": "aa349129-4fa0-4e72-fbfb-345f69b86b70"
      },
      "execution_count": 81,
      "outputs": [
        {
          "output_type": "stream",
          "name": "stderr",
          "text": [
            "100%|██████████| 10/10 [02:29<00:00, 14.91s/it]\n"
          ]
        }
      ]
    },
    {
      "cell_type": "code",
      "source": [
        "!rm -rf result\n",
        "!mkdir result"
      ],
      "metadata": {
        "id": "00DMKU9ZlDFn"
      },
      "execution_count": 78,
      "outputs": []
    }
  ]
}